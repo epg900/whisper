{
  "nbformat": 4,
  "nbformat_minor": 0,
  "metadata": {
    "colab": {
      "provenance": [],
      "gpuType": "T4"
    },
    "kernelspec": {
      "name": "python3",
      "display_name": "Python 3"
    },
    "language_info": {
      "name": "python"
    },
    "accelerator": "GPU"
  },
  "cells": [
    {
      "cell_type": "code",
      "execution_count": null,
      "metadata": {
        "id": "3KzDV5CDfp50",
        "cellView": "form"
      },
      "outputs": [],
      "source": [
        "# @title Install Requirment\n",
        "!pip install git+https://github.com/epg900/whisper.git\n",
        "!pip install -U deep-translator\n",
        "!pip install rich\n",
        "\n",
        "clear_output()\n",
        "import whisper\n",
        "model = whisper.load_model(\"turbo\")\n",
        "from IPython.display import clear_output\n",
        "clear_output()\n",
        "#!whisper vid.mp4 --model medium --language it"
      ]
    },
    {
      "cell_type": "code",
      "source": [
        "# @title Upload Video and Download Subtitle\n",
        "#results = model.transcribe(\"vid.mp4\", language=\"it\", task=\"translate\")\n",
        "from deep_translator import GoogleTranslator\n",
        "from rich.progress import track\n",
        "from google.colab import files\n",
        "\n",
        "uploaded = files.upload()\n",
        "clear_output()\n",
        "\n",
        "result = model.transcribe(next(iter(uploaded)))\n",
        "\n",
        "class dotdict(dict):\n",
        "  def __getattr__(self,key):\n",
        "     return self[key]\n",
        "  def __setattr__(self,key,value):\n",
        "    self[key] = value\n",
        "\n",
        "def format_time(seconds_float):\n",
        "    total_milliseconds = round(seconds_float * 1000)\n",
        "    hours, remainder = divmod(abs(total_milliseconds), 3600000)\n",
        "    minutes, remainder = divmod(remainder, 60000)\n",
        "    seconds, milliseconds = divmod(remainder, 1000)\n",
        "\n",
        "    sign = '-' if seconds_float < 0 else ''\n",
        "    return f\"{sign}{hours:02d}:{minutes:02d}:{seconds:02d},{milliseconds:03d}\"\n",
        "\n",
        "f = open(f\"{next(iter(uploaded)).split('.')[0]}.srt\",'w',encoding='utf-8')\n",
        "f2 = open(f\"{next(iter(uploaded)).split('.')[0]}_origlang.srt\",'w',encoding='utf-8')\n",
        "for k in track(result['segments'], description=\"Processing...\"):\n",
        "  fatxt = GoogleTranslator(source='auto', target='fa').translate(k['text'])\n",
        "  f.write(f\"{k['id']}\\n{format_time(k['start'])} --> {format_time(k['end'])}\\n{fatxt}\\n\\n\")\n",
        "  f2.write(f\"{k['id']}\\n{format_time(k['start'])} --> {format_time(k['end'])}\\n{k['text']}\\n\\n\")\n",
        "f.close()\n",
        "f2.close()\n",
        "files.download(f\"{next(iter(uploaded)).split('.')[0]}.srt\")\n",
        "files.download(f\"{next(iter(uploaded)).split('.')[0]}_origlang.srt\")"
      ],
      "metadata": {
        "id": "ASCNrUActwtf",
        "cellView": "form"
      },
      "execution_count": null,
      "outputs": []
    }
  ]
}