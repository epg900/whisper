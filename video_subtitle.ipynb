{
  "nbformat": 4,
  "nbformat_minor": 0,
  "metadata": {
    "colab": {
      "provenance": [],
      "gpuType": "T4"
    },
    "kernelspec": {
      "name": "python3",
      "display_name": "Python 3"
    },
    "language_info": {
      "name": "python"
    }
  },
  "cells": [
    {
      "cell_type": "code",
      "execution_count": null,
      "metadata": {
        "id": "3KzDV5CDfp50",
        "cellView": "form"
      },
      "outputs": [],
      "source": [
        "# @title Install Requirment\n",
        "!pip install git+https://github.com/epg900/whisper.git\n",
        "!pip install -U deep-translator\n",
        "!pip install rich\n",
        "\n",
        "from IPython.display import clear_output\n",
        "clear_output()\n",
        "import whisper\n",
        "model = whisper.load_model(\"turbo\")\n",
        "clear_output()\n",
        "#!whisper vid.mp4 --model medium --language it"
      ]
    },
    {
      "cell_type": "code",
      "source": [
        "# @title Upload Video and Download Subtitle\n",
        "destination_language = \"fa\" # @param [\"en\",\"fa\",\"es\",\"it\",\"fr\",\"du\"]\n",
        "#results = model.transcribe(\"vid.mp4\", language=\"it\", task=\"translate\")\n",
        "from deep_translator import GoogleTranslator\n",
        "from rich.progress import track\n",
        "from google.colab import files\n",
        "\n",
        "filenameext = \"\"\n",
        "%cd /content/\n",
        "uploaded = files.upload()\n",
        "if uploaded:\n",
        "  filenameext = next(iter(uploaded))\n",
        "else:\n",
        "  linktxt = input(\"Enter Video Download Link: \")\n",
        "  if linktxt != '':\n",
        "    !wget {linktxt} -O video.mp4\n",
        "  filenameext = \"video.mp4\"\n",
        "filename = filenameext.split('.')[0]\n",
        "clear_output()\n",
        "\n",
        "result = model.transcribe(filenameext)\n",
        "\n",
        "class dotdict(dict):\n",
        "  def __getattr__(self,key):\n",
        "     return self[key]\n",
        "  def __setattr__(self,key,value):\n",
        "    self[key] = value\n",
        "\n",
        "def format_time(seconds_float):\n",
        "    total_milliseconds = round(seconds_float * 1000)\n",
        "    hours, remainder = divmod(abs(total_milliseconds), 3600000)\n",
        "    minutes, remainder = divmod(remainder, 60000)\n",
        "    seconds, milliseconds = divmod(remainder, 1000)\n",
        "\n",
        "    sign = '-' if seconds_float < 0 else ''\n",
        "    return f\"{sign}{hours:02d}:{minutes:02d}:{seconds:02d},{milliseconds:03d}\"\n",
        "\n",
        "f = open(f\"{filename}.srt\",'w',encoding='utf-8')\n",
        "f2 = open(f\"{filename}_origlang.srt\",'w',encoding='utf-8')\n",
        "f3 = open(f\"{filename}_origfa.srt\",'w',encoding='utf-8')\n",
        "\n",
        "for k in track(result['segments'], description=\"Processing...\"):\n",
        "  fatxt = GoogleTranslator(source='auto', target=destination_language).translate(k['text'])\n",
        "  f.write(f\"{k['id']}\\n{format_time(k['start'])} --> {format_time(k['end'])}\\n{fatxt}\\n\\n\")\n",
        "  f2.write(f\"{k['id']}\\n{format_time(k['start'])} --> {format_time(k['end'])}\\n{k['text']}\\n\\n\")\n",
        "  f3.write(f\"{k['id']}\\n{format_time(k['start'])} --> {format_time(k['end'])}\\n{k['text']}\\n{fatxt}\\n\\n\")\n",
        "\n",
        "f.close()\n",
        "f2.close()\n",
        "f3.close()\n",
        "\n",
        "files.download(f\"{filename}.srt\")\n",
        "files.download(f\"{filename}_origlang.srt\")\n",
        "files.download(f\"{filename}_origfa.srt\")"
      ],
      "metadata": {
        "id": "ASCNrUActwtf",
        "cellView": "form"
      },
      "execution_count": null,
      "outputs": []
    },
    {
      "cell_type": "code",
      "source": [
        "# @title Youtube Viewer and Downloader\n",
        "vidurl = \"\" # @param {type:\"string\"}\n",
        "!pip install yt-dlp\n",
        "!rm video.mp4\n",
        "!yt-dlp -f 18 -o video.mp4 {vidurl}\n",
        "!yt-dlp --get-description {vidurl} > video.txt\n",
        "#!yt-dlp --write-comments --dump-single-json {vidurl} > video.txt\n",
        "#!jq '.description'  video.txt\n",
        "#!curl -F file=@\"video.mp4\" https://epfs2.eu.pythonanywhere.com/uploader > /dev/null\n",
        "from IPython.display import clear_output\n",
        "clear_output()\n",
        "#print(\"https://epfs2.eu.pythonanywhere.com/video.mp4\")\n",
        "#import IPython\n",
        "#display(IPython.display.Javascript(\"window.open('https://epfs2.eu.pythonanywhere.com/vid.mp4')\"))"
      ],
      "metadata": {
        "id": "2SXKDt-0jhSv",
        "cellView": "form"
      },
      "execution_count": null,
      "outputs": []
    }
  ]
}